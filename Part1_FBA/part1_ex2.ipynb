{
 "cells": [
  {
   "cell_type": "markdown",
   "metadata": {},
   "source": [
    "#  Exercício 2 (parte 1) - implementação do FBA\n",
    "                    \n",
    " Verificação da capacidade máxima de produção de acetato. \n",
    " \n",
    " ## Grupo 2: \n",
    " \n",
    " Diogo Cachetas, João Monteiro, Juliana Pereira, Joana Gabriel, Sara Boaventura, Teresa Coimbra\n"
   ]
  },
  {
   "cell_type": "markdown",
   "metadata": {},
   "source": [
    "### Sumário do modelo incial sem condições ambientais:"
   ]
  },
  {
   "cell_type": "code",
   "execution_count": 5,
   "metadata": {},
   "outputs": [
    {
     "name": "stdout",
     "output_type": "stream",
     "text": [
      "Objective\n",
      "=========\n",
      "1.0 BIOMASS_Ec_iML1515_core_75p37M = 0.8769972144269693\n",
      "\n",
      "Uptake\n",
      "------\n",
      "Metabolite      Reaction      Flux  C-Number   C-Flux\n",
      "     ca2_e      EX_ca2_e  0.004565         0    0.00%\n",
      "      cl_e       EX_cl_e  0.004565         0    0.00%\n",
      " cobalt2_e  EX_cobalt2_e 2.192E-05         0    0.00%\n",
      "     cu2_e      EX_cu2_e 0.0006218         0    0.00%\n",
      "     fe2_e      EX_fe2_e   0.01409         0    0.00%\n",
      "  glc__D_e   EX_glc__D_e        10         6  100.00%\n",
      "       k_e        EX_k_e    0.1712         0    0.00%\n",
      "     mg2_e      EX_mg2_e  0.007608         0    0.00%\n",
      "     mn2_e      EX_mn2_e  0.000606         0    0.00%\n",
      "    mobd_e     EX_mobd_e 6.139E-06         0    0.00%\n",
      "     nh4_e      EX_nh4_e     9.471         0    0.00%\n",
      "     ni2_e      EX_ni2_e 0.0002833         0    0.00%\n",
      "      o2_e       EX_o2_e     22.13         0    0.00%\n",
      "      pi_e       EX_pi_e     0.846         0    0.00%\n",
      "     so4_e      EX_so4_e    0.2208         0    0.00%\n",
      "     zn2_e      EX_zn2_e 0.0002991         0    0.00%\n",
      "\n",
      "Secretion\n",
      "---------\n",
      "Metabolite     Reaction       Flux  C-Number  C-Flux\n",
      "  4crsol_c  DM_4crsol_c -0.0001956         7   0.01%\n",
      "   5drib_c   DM_5drib_c -0.0001973         5   0.00%\n",
      "    amob_c    DM_amob_c -1.754E-06        15   0.00%\n",
      "     co2_e     EX_co2_e        -24         1  99.99%\n",
      "     h2o_e     EX_h2o_e     -47.16         0   0.00%\n",
      "       h_e       EX_h_e     -8.058         0   0.00%\n",
      "    meoh_e    EX_meoh_e -1.754E-06         1   0.00%\n",
      "\n"
     ]
    }
   ],
   "source": [
    "cobra_model2 = cobra.io.read_sbml_model('./iml1515.xml')         \n",
    "print(cobra_model2.summary())                          "
   ]
  },
  {
   "cell_type": "markdown",
   "metadata": {},
   "source": [
    "Alteração das condições ambientais"
   ]
  },
  {
   "cell_type": "code",
   "execution_count": 6,
   "metadata": {},
   "outputs": [],
   "source": [
    "#cobra_model2.reactions.get_by_id(\"EX_o2_e\").upper_bound = 1000\n",
    "cobra_model2.reactions.get_by_id(\"EX_o2_e\").lower_bound = 0\n",
    "#cobra_model2.reactions.get_by_id(\"EX_glc__D_e\").upper_bound = 1000\n",
    "cobra_model2.reactions.get_by_id(\"EX_glc__D_e\").lower_bound = -15"
   ]
  },
  {
   "cell_type": "markdown",
   "metadata": {},
   "source": [
    "Sumário do modelo após a alteração das condições ambientais"
   ]
  },
  {
   "cell_type": "code",
   "execution_count": 8,
   "metadata": {},
   "outputs": [
    {
     "name": "stdout",
     "output_type": "stream",
     "text": [
      "Objective\n",
      "=========\n",
      "1.0 BIOMASS_Ec_iML1515_core_75p37M = 0.2660981251911762\n",
      "\n",
      "Uptake\n",
      "------\n",
      "Metabolite      Reaction      Flux  C-Number  C-Flux\n",
      "     ca2_e      EX_ca2_e  0.001385         0   0.00%\n",
      "      cl_e       EX_cl_e  0.001385         0   0.00%\n",
      "     co2_e      EX_co2_e   0.09771         1   0.11%\n",
      " cobalt2_e  EX_cobalt2_e 6.652E-06         0   0.00%\n",
      "     cu2_e      EX_cu2_e 0.0001887         0   0.00%\n",
      "     fe2_e      EX_fe2_e  0.002196         0   0.00%\n",
      "     fe3_e      EX_fe3_e  0.002078         0   0.00%\n",
      "  glc__D_e   EX_glc__D_e        15         6  99.89%\n",
      "     h2o_e      EX_h2o_e     5.865         0   0.00%\n",
      "       k_e        EX_k_e   0.05194         0   0.00%\n",
      "     mg2_e      EX_mg2_e  0.002308         0   0.00%\n",
      "     mn2_e      EX_mn2_e 0.0001839         0   0.00%\n",
      "    mobd_e     EX_mobd_e 1.863E-06         0   0.00%\n",
      "     nh4_e      EX_nh4_e     2.874         0   0.00%\n",
      "     ni2_e      EX_ni2_e 8.595E-05         0   0.00%\n",
      "      pi_e       EX_pi_e    0.2567         0   0.00%\n",
      "     so4_e      EX_so4_e   0.06701         0   0.00%\n",
      "     zn2_e      EX_zn2_e 9.074E-05         0   0.00%\n",
      "\n",
      "Secretion\n",
      "---------\n",
      "Metabolite     Reaction       Flux  C-Number  C-Flux\n",
      "  4crsol_c  DM_4crsol_c -5.934E-05         7   0.00%\n",
      "   5drib_c   DM_5drib_c -0.0001786         5   0.00%\n",
      "    amob_c    DM_amob_c -5.322E-07        15   0.00%\n",
      "      ac_e      EX_ac_e     -13.03         2  32.90%\n",
      "    etoh_e    EX_etoh_e     -12.88         2  32.54%\n",
      "     for_e     EX_for_e     -27.01         1  34.11%\n",
      "       h_e       EX_h_e     -42.66         0   0.00%\n",
      "    meoh_e    EX_meoh_e -5.322E-07         1   0.00%\n",
      "    succ_e    EX_succ_e   -0.08878         4   0.45%\n",
      "\n"
     ]
    }
   ],
   "source": [
    "print(cobra_model2.summary())                  "
   ]
  },
  {
   "cell_type": "code",
   "execution_count": 38,
   "metadata": {},
   "outputs": [
    {
     "name": "stdout",
     "output_type": "stream",
     "text": [
      "Objective\n",
      "=========\n",
      "1.0 BIOMASS_Ec_iML1515_core_75p37M = 0.2660981251911773\n",
      "\n",
      "Uptake\n",
      "------\n",
      "Metabolite     Reaction      Flux                  Range  C-Number C-Flux\n",
      "     ca2_e     EX_ca2_e  0.001385   [0.001108; 0.001385]         0  0.00%\n",
      "      cl_e      EX_cl_e  0.001385   [0.001108; 0.001385]         0  0.00%\n",
      "     co2_e     EX_co2_e   0.09771        [-24.43; 24.59]         1  0.11%\n",
      " cobalt2_e EX_cobalt2_e 6.652E-06 [5.322E-06; 6.652E-06]         0  0.00%\n",
      "     cu2_e     EX_cu2_e 0.0001887 [0.0001509; 0.0001887]         0  0.00%\n",
      "     fe2_e     EX_fe2_e  0.002196       [-4.901; 0.1067]         0  0.00%\n",
      "     fe3_e     EX_fe3_e  0.002078      [0.001662; 4.904]         0  0.00%\n",
      "  glc__D_e  EX_glc__D_e        15            [12.55; 15]         6 99.89%\n",
      "     h2o_e     EX_h2o_e     5.865        [-4.564; 19.95]         0  0.00%\n",
      "       k_e       EX_k_e   0.05194     [0.04155; 0.05194]         0  0.00%\n",
      "     mg2_e     EX_mg2_e  0.002308   [0.001847; 0.002308]         0  0.00%\n",
      "     mn2_e     EX_mn2_e 0.0001839 [0.0001471; 0.0001839]         0  0.00%\n",
      "    mobd_e    EX_mobd_e 1.863E-06  [1.49E-06; 1.862E-06]         0  0.00%\n",
      "     nh4_e     EX_nh4_e     2.874         [2.299; 8.428]         0  0.00%\n",
      "     ni2_e     EX_ni2_e 8.595E-05 [6.876E-05; 8.595E-05]         0  0.00%\n",
      "      pi_e      EX_pi_e    0.2567       [0.2053; 0.7382]         0  0.00%\n",
      "     so4_e     EX_so4_e   0.06701       [0.05361; 1.688]         0  0.00%\n",
      "     zn2_e     EX_zn2_e 9.074E-05 [7.259E-05; 9.074E-05]         0  0.00%\n",
      "\n",
      "Secretion\n",
      "---------\n",
      "        Metabolite              Reaction       Flux                    Range  C-Number C-Flux\n",
      "          4crsol_c           DM_4crsol_c -5.934E-05    [-0.4669; -4.747E-05]         7  0.00%\n",
      "           5drib_c            DM_5drib_c -0.0001786     [-0.467; -0.0001428]         5  0.00%\n",
      "            amob_c             DM_amob_c -5.322E-07 [-5.276E-07; -4.258E-07]        15  0.00%\n",
      "          mththf_c           DM_mththf_c          0              [-1.007; 0]         5  0.00%\n",
      "        12ppd__R_e         EX_12ppd__R_e          0              [-4.902; 0]         3  0.00%\n",
      "        12ppd__S_e         EX_12ppd__S_e          0              [-3.502; 0]         3  0.00%\n",
      "           15dap_e            EX_15dap_e          0              [-1.226; 0]         5  0.00%\n",
      "           4abut_e            EX_4abut_e          0              [-2.228; 0]         4  0.00%\n",
      "         4abzglu_e          EX_4abzglu_e          0             [-0.5613; 0]        12  0.00%\n",
      "          5dglcn_e           EX_5dglcn_e          0              [-1.532; 0]         6  0.00%\n",
      "            5mtr_e             EX_5mtr_e          0             [-0.2907; 0]         6  0.00%\n",
      "LalaDgluMdapDala_e EX_LalaDgluMdapDala_e          0             [-0.2527; 0]        18  0.00%\n",
      "    LalaDgluMdap_e     EX_LalaDgluMdap_e          0             [-0.2664; 0]        15  0.00%\n",
      "              ac_e               EX_ac_e     -13.03        [-25.68; -0.7302]         2 32.90%\n",
      "           acald_e            EX_acald_e          0              [-12.26; 0]         2  0.00%\n",
      "           acser_e            EX_acser_e          0              [-1.751; 0]         5  0.00%\n",
      "             ade_e              EX_ade_e          0             [-0.4089; 0]         5  0.00%\n",
      "             adn_e              EX_adn_e          0             [-0.3392; 0]        10  0.00%\n",
      "             agm_e              EX_agm_e          0             [-0.6809; 0]         5  0.00%\n",
      "             akg_e              EX_akg_e          0              [-2.043; 0]         5  0.00%\n",
      "          ala__D_e           EX_ala__D_e          0              [-0.894; 0]         3  0.00%\n",
      "          ala__L_e           EX_ala__L_e          0              [-6.128; 0]         3  0.00%\n",
      "          alaala_e           EX_alaala_e          0             [-0.4457; 0]         6  0.00%\n",
      "           anhgm_e            EX_anhgm_e          0             [-0.2989; 0]        19  0.00%\n",
      "          arg__L_e           EX_arg__L_e          0             [-0.6625; 0]         6  0.00%\n",
      "          asn__L_e           EX_asn__L_e          0              [-1.532; 0]         4  0.00%\n",
      "          asp__L_e           EX_asp__L_e          0              [-2.724; 0]         4  0.00%\n",
      "            cgly_e             EX_cgly_e          0             [-0.4643; 0]         5  0.00%\n",
      "             cit_e              EX_cit_e          0              [-1.634; 0]         6  0.00%\n",
      "          cys__L_e           EX_cys__L_e          0             [-0.8452; 0]         3  0.00%\n",
      "            cytd_e             EX_cytd_e          0             [-0.5071; 0]         9  0.00%\n",
      "             dha_e              EX_dha_e          0              [-4.902; 0]         3  0.00%\n",
      "          dxylnt_e           EX_dxylnt_e          0           [-0.000178; 0]         5  0.00%\n",
      "      eca4colipa_e       EX_eca4colipa_e          0            [-0.03081; 0]       272  0.00%\n",
      "          enlipa_e           EX_enlipa_e          0            [-0.09513; 0]       112  0.00%\n",
      "           enter_e            EX_enter_e          0             [-0.1504; 0]        30  0.00%\n",
      "            etha_e             EX_etha_e          0             [-0.4625; 0]         2  0.00%\n",
      "            etoh_e             EX_etoh_e     -12.88         [-25.56; -1.049]         2 32.54%\n",
      "             fad_e              EX_fad_e          0             [-0.1242; 0]        27  0.00%\n",
      "         fe3dcit_e          EX_fe3dcit_e          0             [-0.8171; 0]        12  0.00%\n",
      "         feenter_e          EX_feenter_e          0             [-0.1504; 0]        30  0.00%\n",
      "             fmn_e              EX_fmn_e          0             [-0.2095; 0]        17  0.00%\n",
      "             for_e              EX_for_e     -27.01         [-52.12; -3.093]         1 34.11%\n",
      "             fum_e              EX_fum_e          0              [-3.502; 0]         4  0.00%\n",
      "            g3pe_e             EX_g3pe_e          0             [-0.3954; 0]         5  0.00%\n",
      "            g3pg_e             EX_g3pg_e          0             [-0.3954; 0]         6  0.00%\n",
      "            glcn_e             EX_glcn_e          0              [-1.751; 0]         6  0.00%\n",
      "          glu__L_e           EX_glu__L_e          0              [-2.043; 0]         5  0.00%\n",
      "             gly_e              EX_gly_e          0              [-2.237; 0]         2  0.00%\n",
      "          glyald_e           EX_glyald_e          0              [-2.724; 0]         3  0.00%\n",
      "          glyc3p_e           EX_glyc3p_e          0             [-0.5329; 0]         3  0.00%\n",
      "         glyc__R_e          EX_glyc__R_e          0              [-3.502; 0]         3  0.00%\n",
      "            glyc_e             EX_glyc_e          0              [-3.502; 0]         3  0.00%\n",
      "          glyclt_e           EX_glyclt_e          0              [-2.228; 0]         2  0.00%\n",
      "             gsn_e              EX_gsn_e          0             [-0.3132; 0]        10  0.00%\n",
      "           gthrd_e            EX_gthrd_e          0             [-0.3786; 0]        10  0.00%\n",
      "             gua_e              EX_gua_e          0             [-0.3775; 0]         5  0.00%\n",
      "             h2s_e              EX_h2s_e          0              [-1.634; 0]         0  0.00%\n",
      "               h_e                EX_h_e     -42.66         [-79.89; -6.357]         0  0.00%\n",
      "          his__L_e           EX_his__L_e          0             [-0.5179; 0]         6  0.00%\n",
      "          hom__L_e           EX_hom__L_e          0              [-1.886; 0]         4  0.00%\n",
      "             hxa_e              EX_hxa_e          0              [-6.128; 0]         6  0.00%\n",
      "            hxan_e             EX_hxan_e          0             [-0.4539; 0]         5  0.00%\n",
      "         idon__L_e          EX_idon__L_e          0              [-1.751; 0]         6  0.00%\n",
      "          ile__L_e           EX_ile__L_e          0              [-1.226; 0]         6  0.00%\n",
      "          indole_e           EX_indole_e          0             [-0.5979; 0]         8  0.00%\n",
      "             ins_e              EX_ins_e          0              [-0.364; 0]        10  0.00%\n",
      "          lac__D_e           EX_lac__D_e          0              [-24.51; 0]         3  0.00%\n",
      "          lac__L_e           EX_lac__L_e          0              [-2.228; 0]         3  0.00%\n",
      "          leu__L_e           EX_leu__L_e          0              [-1.751; 0]         6  0.00%\n",
      "          lys__L_e           EX_lys__L_e          0              [-1.226; 0]         6  0.00%\n",
      "          mal__L_e           EX_mal__L_e          0              [-3.502; 0]         4  0.00%\n",
      "            meoh_e             EX_meoh_e -5.322E-07 [-5.322E-07; -4.258E-07]         1  0.00%\n",
      "          met__L_e           EX_met__L_e          0               [-0.57; 0]         5  0.00%\n",
      "          mththf_e           EX_mththf_e          0              [-1.007; 0]         5  0.00%\n",
      "             orn_e              EX_orn_e          0              [-1.167; 0]         5  0.00%\n",
      "          phe__L_e           EX_phe__L_e          0             [-0.8551; 0]         9  0.00%\n",
      "           pheme_e            EX_pheme_e          0             [-0.1049; 0]        34  0.00%\n",
      "          pro__L_e           EX_pro__L_e          0              [-1.634; 0]         5  0.00%\n",
      "            ptrc_e             EX_ptrc_e          0              [-1.226; 0]         4  0.00%\n",
      "             pyr_e              EX_pyr_e          0              [-8.171; 0]         3  0.00%\n",
      "          ser__L_e           EX_ser__L_e          0              [-2.451; 0]         3  0.00%\n",
      "            spmd_e             EX_spmd_e          0             [-0.2907; 0]         7  0.00%\n",
      "            succ_e             EX_succ_e   -0.08878       [-12.33; -0.07103]         4  0.45%\n",
      "          thr__L_e           EX_thr__L_e          0              [-1.442; 0]         4  0.00%\n",
      "            thym_e             EX_thym_e          0             [-0.6809; 0]         5  0.00%\n",
      "           thymd_e            EX_thymd_e          0             [-0.4969; 0]        10  0.00%\n",
      "          trp__L_e           EX_trp__L_e          0             [-0.5447; 0]        11  0.00%\n",
      "          tyr__L_e           EX_tyr__L_e          0             [-0.7993; 0]         9  0.00%\n",
      "             ura_e              EX_ura_e          0             [-0.8754; 0]         4  0.00%\n",
      "            urea_e             EX_urea_e          0             [-0.6809; 0]         1  0.00%\n",
      "             uri_e              EX_uri_e          0             [-0.6232; 0]         9  0.00%\n",
      "          val__L_e           EX_val__L_e          0              [-3.064; 0]         5  0.00%\n",
      "             xan_e              EX_xan_e          0             [-0.4377; 0]         5  0.00%\n",
      "            xtsn_e             EX_xtsn_e          0              [-0.364; 0]        10  0.00%\n",
      "\n"
     ]
    }
   ],
   "source": [
    "solution2 = cobra_model2.optimize()\n",
    "solution2 = cobra_model2.summary(fva=0.8)\n",
    "print(solution2)"
   ]
  },
  {
   "cell_type": "markdown",
   "metadata": {},
   "source": [
    "Na ausência de oxigénio, a capacidade máxima de produção de acetato é dada por: "
   ]
  },
  {
   "cell_type": "code",
   "execution_count": 9,
   "metadata": {},
   "outputs": [
    {
     "data": {
      "text/html": [
       "<h3>EX_ac_e</h3><p>ac_e --> </p><p>Bounds: 0.0, 1000.0</p><p>Flux: 13.03 [0.7302; 25.68]</p>"
      ],
      "text/plain": [
       "<cobra.summary.reaction_summary.ReactionSummary at 0x1c6be79dac8>"
      ]
     },
     "execution_count": 9,
     "metadata": {},
     "output_type": "execute_result"
    }
   ],
   "source": [
    "cobra_model2.reactions.EX_ac_e.summary(fva=0.80)"
   ]
  }
 ],
 "metadata": {
  "kernelspec": {
   "display_name": "Python 3",
   "language": "python",
   "name": "python3"
  },
  "language_info": {
   "codemirror_mode": {
    "name": "ipython",
    "version": 3
   },
   "file_extension": ".py",
   "mimetype": "text/x-python",
   "name": "python",
   "nbconvert_exporter": "python",
   "pygments_lexer": "ipython3",
   "version": "3.7.9"
  }
 },
 "nbformat": 4,
 "nbformat_minor": 4
}
