{
 "cells": [
  {
   "cell_type": "code",
   "execution_count": null,
   "metadata": {},
   "outputs": [],
   "source": [
    "##########################################################################################################\n",
    "#              Exercício 1 (parte 1) - implementação do FBA\n",
    "#     Com base no modelo estequiométrico iML1515 de E.coli substr. K-12 no formato SBML foi \n",
    "#     efetuada uma verificação da produção wild-type do composto de interesse: o acetato. \n",
    "#\n",
    "# Grupo 2: \n",
    "#     Diogo Cachetas, João Monteiro, Juliana Pereira, Joana Gabriel, Sara Boaventura, Teresa Coimbra\n",
    "##########################################################################################################"
   ]
  },
  {
   "cell_type": "code",
   "execution_count": 1,
   "metadata": {},
   "outputs": [],
   "source": [
    "from mewpy.simulation import get_simulator\n",
    "from cobra.io import read_sbml_model\n",
    "from cobra.flux_analysis import flux_variability_analysis\n",
    "import pandas\n",
    "from time import time\n",
    "import cobra.test\n",
    "from cobra.flux_analysis import (\n",
    "    single_gene_deletion, single_reaction_deletion, double_gene_deletion,\n",
    "    double_reaction_deletion)"
   ]
  },
  {
   "cell_type": "code",
   "execution_count": 2,
   "metadata": {
    "collapsed": true,
    "jupyter": {
     "outputs_hidden": true
    }
   },
   "outputs": [
    {
     "name": "stdout",
     "output_type": "stream",
     "text": [
      "Objective\n",
      "=========\n",
      "1.0 BIOMASS_Ec_iML1515_core_75p37M = 0.8769972144269693\n",
      "\n",
      "Uptake\n",
      "------\n",
      "Metabolite      Reaction      Flux  C-Number   C-Flux\n",
      "     ca2_e      EX_ca2_e  0.004565         0    0.00%\n",
      "      cl_e       EX_cl_e  0.004565         0    0.00%\n",
      " cobalt2_e  EX_cobalt2_e 2.192E-05         0    0.00%\n",
      "     cu2_e      EX_cu2_e 0.0006218         0    0.00%\n",
      "     fe2_e      EX_fe2_e   0.01409         0    0.00%\n",
      "  glc__D_e   EX_glc__D_e        10         6  100.00%\n",
      "       k_e        EX_k_e    0.1712         0    0.00%\n",
      "     mg2_e      EX_mg2_e  0.007608         0    0.00%\n",
      "     mn2_e      EX_mn2_e  0.000606         0    0.00%\n",
      "    mobd_e     EX_mobd_e 6.139E-06         0    0.00%\n",
      "     nh4_e      EX_nh4_e     9.471         0    0.00%\n",
      "     ni2_e      EX_ni2_e 0.0002833         0    0.00%\n",
      "      o2_e       EX_o2_e     22.13         0    0.00%\n",
      "      pi_e       EX_pi_e     0.846         0    0.00%\n",
      "     so4_e      EX_so4_e    0.2208         0    0.00%\n",
      "     zn2_e      EX_zn2_e 0.0002991         0    0.00%\n",
      "\n",
      "Secretion\n",
      "---------\n",
      "Metabolite     Reaction       Flux  C-Number  C-Flux\n",
      "  4crsol_c  DM_4crsol_c -0.0001956         7   0.01%\n",
      "   5drib_c   DM_5drib_c -0.0001973         5   0.00%\n",
      "    amob_c    DM_amob_c -1.754E-06        15   0.00%\n",
      "     co2_e     EX_co2_e        -24         1  99.99%\n",
      "     h2o_e     EX_h2o_e     -47.16         0   0.00%\n",
      "       h_e       EX_h_e     -8.058         0   0.00%\n",
      "    meoh_e    EX_meoh_e -1.754E-06         1   0.00%\n",
      "\n"
     ]
    }
   ],
   "source": [
    "model = read_sbml_model('./iML1515.xml')                # criação do modelo\n",
    "print(model.summary())                                  # sumário do modelo inicial sem alteração das condições ambientais"
   ]
  },
  {
   "cell_type": "code",
   "execution_count": 5,
   "metadata": {},
   "outputs": [],
   "source": [
    "cobra_model = model.copy()                              # cópia do modelo "
   ]
  },
  {
   "cell_type": "markdown",
   "metadata": {},
   "source": [
    "Alteração das condições ambientais: "
   ]
  },
  {
   "cell_type": "code",
   "execution_count": 6,
   "metadata": {},
   "outputs": [],
   "source": [
    "cobra_model.reactions.get_by_id(\"EX_o2_e\").upper_bound = 1000\n",
    "cobra_model.reactions.get_by_id(\"EX_o2_e\").lower_bound = 0\n",
    "cobra_model.reactions.get_by_id(\"EX_glc__D_e\").upper_bound = 1000\n",
    "cobra_model.reactions.get_by_id(\"EX_glc__D_e\").lower_bound = -15"
   ]
  },
  {
   "cell_type": "code",
   "execution_count": 7,
   "metadata": {
    "collapsed": true,
    "jupyter": {
     "outputs_hidden": true
    }
   },
   "outputs": [
    {
     "data": {
      "text/html": [
       "\n",
       "        <table>\n",
       "            <tr>\n",
       "                <td><strong>Reaction identifier</strong></td><td>EX_o2_e</td>\n",
       "            </tr><tr>\n",
       "                <td><strong>Name</strong></td><td>O2 exchange</td>\n",
       "            </tr><tr>\n",
       "                <td><strong>Memory address</strong></td>\n",
       "                <td>0x02965913e748</td>\n",
       "            </tr><tr>\n",
       "                <td><strong>Stoichiometry</strong></td>\n",
       "                <td>\n",
       "                    <p style='text-align:right'>o2_e --></p>\n",
       "                    <p style='text-align:right'>O2 O2 --></p>\n",
       "                </td>\n",
       "            </tr><tr>\n",
       "                <td><strong>GPR</strong></td><td></td>\n",
       "            </tr><tr>\n",
       "                <td><strong>Lower bound</strong></td><td>0</td>\n",
       "            </tr><tr>\n",
       "                <td><strong>Upper bound</strong></td><td>1000</td>\n",
       "            </tr>\n",
       "        </table>\n",
       "        "
      ],
      "text/plain": [
       "<Reaction EX_o2_e at 0x2965913e748>"
      ]
     },
     "execution_count": 7,
     "metadata": {},
     "output_type": "execute_result"
    }
   ],
   "source": [
    "cobra_model.reactions.get_by_id('EX_o2_e')              # Confirmação da alteração das condições ambientais no modelo"
   ]
  },
  {
   "cell_type": "code",
   "execution_count": 9,
   "metadata": {
    "collapsed": true,
    "jupyter": {
     "outputs_hidden": true
    }
   },
   "outputs": [
    {
     "name": "stdout",
     "output_type": "stream",
     "text": [
      "Objective\n",
      "=========\n",
      "1.0 BIOMASS_Ec_iML1515_core_75p37M = 0.2660981251911781\n",
      "\n",
      "Uptake\n",
      "------\n",
      "Metabolite      Reaction      Flux  C-Number  C-Flux\n",
      "     ca2_e      EX_ca2_e  0.001385         0   0.00%\n",
      "      cl_e       EX_cl_e  0.001385         0   0.00%\n",
      "     co2_e      EX_co2_e   0.09771         1   0.11%\n",
      " cobalt2_e  EX_cobalt2_e 6.652E-06         0   0.00%\n",
      "     cu2_e      EX_cu2_e 0.0001887         0   0.00%\n",
      "     fe2_e      EX_fe2_e  0.002196         0   0.00%\n",
      "     fe3_e      EX_fe3_e  0.002078         0   0.00%\n",
      "  glc__D_e   EX_glc__D_e        15         6  99.89%\n",
      "     h2o_e      EX_h2o_e     5.865         0   0.00%\n",
      "       k_e        EX_k_e   0.05194         0   0.00%\n",
      "     mg2_e      EX_mg2_e  0.002308         0   0.00%\n",
      "     mn2_e      EX_mn2_e 0.0001839         0   0.00%\n",
      "    mobd_e     EX_mobd_e 1.863E-06         0   0.00%\n",
      "     nh4_e      EX_nh4_e     2.874         0   0.00%\n",
      "     ni2_e      EX_ni2_e 8.595E-05         0   0.00%\n",
      "      pi_e       EX_pi_e    0.2567         0   0.00%\n",
      "     so4_e      EX_so4_e   0.06701         0   0.00%\n",
      "     zn2_e      EX_zn2_e 9.074E-05         0   0.00%\n",
      "\n",
      "Secretion\n",
      "---------\n",
      "Metabolite     Reaction       Flux  C-Number  C-Flux\n",
      "  4crsol_c  DM_4crsol_c -5.934E-05         7   0.00%\n",
      "   5drib_c   DM_5drib_c -0.0001786         5   0.00%\n",
      "    amob_c    DM_amob_c -5.322E-07        15   0.00%\n",
      "      ac_e      EX_ac_e     -13.03         2  32.90%\n",
      "    etoh_e    EX_etoh_e     -12.88         2  32.54%\n",
      "     for_e     EX_for_e     -27.01         1  34.11%\n",
      "       h_e       EX_h_e     -42.66         0   0.00%\n",
      "    meoh_e    EX_meoh_e -5.322E-07         1   0.00%\n",
      "    succ_e    EX_succ_e   -0.08878         4   0.45%\n",
      "\n"
     ]
    }
   ],
   "source": [
    "print(cobra_model.summary())                            # Sumário do modelo após a alteração das condições ambientais"
   ]
  },
  {
   "cell_type": "code",
   "execution_count": 8,
   "metadata": {},
   "outputs": [
    {
     "data": {
      "text/plain": [
       "0.2660981251911781"
      ]
     },
     "execution_count": 8,
     "metadata": {},
     "output_type": "execute_result"
    }
   ],
   "source": [
    "solution = cobra_model.optimize()  \n",
    "solution.objective_value"
   ]
  },
  {
   "cell_type": "code",
   "execution_count": 12,
   "metadata": {
    "collapsed": true,
    "jupyter": {
     "outputs_hidden": true
    }
   },
   "outputs": [
    {
     "name": "stdout",
     "output_type": "stream",
     "text": [
      "ac_e\n",
      "====\n",
      "Formula: C2H3O2\n",
      "\n",
      "Producing Reactions\n",
      "-------------------\n",
      "Empty DataFrame\n",
      "Columns: [Percent, Flux, Reaction, Definition]\n",
      "Index: []\n",
      "\n",
      "Consuming Reactions\n",
      "-------------------\n",
      "Empty DataFrame\n",
      "Columns: [Percent, Flux, Reaction, Definition]\n",
      "Index: []\n"
     ]
    }
   ],
   "source": [
    "acetato_e =model.metabolites.get_by_id('ac_e')\n",
    "print(acetato_e.summary())                              # Verificação das reações que envolvem o metabolito acetato extracelular"
   ]
  },
  {
   "cell_type": "code",
   "execution_count": 13,
   "metadata": {},
   "outputs": [
    {
     "data": {
      "text/plain": [
       "{<Reaction BIOMASS_Ec_iML1515_core_75p37M at 0x296590e5988>: 1.0}"
      ]
     },
     "execution_count": 13,
     "metadata": {},
     "output_type": "execute_result"
    }
   ],
   "source": [
    "from cobra.util.solver import linear_reaction_coefficients\n",
    "linear_reaction_coefficients(cobra_model)"
   ]
  },
  {
   "cell_type": "markdown",
   "metadata": {},
   "source": [
    "Com as condições ambientais determinadas, os fluxos da reação que conduz o acetato para o meio extracelular e da biomassa são dados por:"
   ]
  },
  {
   "cell_type": "code",
   "execution_count": 14,
   "metadata": {},
   "outputs": [
    {
     "data": {
      "text/plain": [
       "13.025232770730115"
      ]
     },
     "execution_count": 14,
     "metadata": {},
     "output_type": "execute_result"
    }
   ],
   "source": [
    "solution.fluxes['EX_ac_e']                                  # Fluxo da reação EX_ac_e (acetato para o meio extracelular) com a otimização da biomassa"
   ]
  },
  {
   "cell_type": "code",
   "execution_count": 15,
   "metadata": {},
   "outputs": [
    {
     "data": {
      "text/plain": [
       "0.2660981251911781"
      ]
     },
     "execution_count": 15,
     "metadata": {},
     "output_type": "execute_result"
    }
   ],
   "source": [
    "solution.fluxes['BIOMASS_Ec_iML1515_core_75p37M']           # Fluxo da biomassa com a otimização da biomassa"
   ]
  }
 ],
 "metadata": {
  "kernelspec": {
   "display_name": "Python 3",
   "language": "python",
   "name": "python3"
  },
  "language_info": {
   "codemirror_mode": {
    "name": "ipython",
    "version": 3
   },
   "file_extension": ".py",
   "mimetype": "text/x-python",
   "name": "python",
   "nbconvert_exporter": "python",
   "pygments_lexer": "ipython3",
   "version": "3.7.9"
  }
 },
 "nbformat": 4,
 "nbformat_minor": 4
}
